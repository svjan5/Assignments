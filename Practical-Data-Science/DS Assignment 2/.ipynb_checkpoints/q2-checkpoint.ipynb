{
 "cells": [
  {
   "cell_type": "code",
   "execution_count": 1,
   "metadata": {},
   "outputs": [],
   "source": [
    "import numpy as np\n",
    "import pandas as pd\n",
    "import matplotlib.pyplot as plt\n",
    "plt.style.use('ggplot')\n",
    "from sklearn.ensemble import BaggingClassifier\n",
    "from sklearn.ensemble import RandomForestClassifier\n",
    "from sklearn.ensemble import AdaBoostClassifier\n",
    "import warnings\n",
    "warnings.filterwarnings('ignore')\n",
    "import xgboost"
   ]
  },
  {
   "cell_type": "code",
   "execution_count": 2,
   "metadata": {
    "collapsed": true
   },
   "outputs": [],
   "source": [
    "NUM_TRAIN = 2000\n",
    "NUM_TEST = 10000\n",
    "NUM_FEATURES = 10\n",
    "NUM_TRIALS = 50\n",
    "MEAN = 0\n",
    "SIGMA = 1"
   ]
  },
  {
   "cell_type": "code",
   "execution_count": 3,
   "metadata": {},
   "outputs": [],
   "source": [
    "def genDataset(NUM_OBS, NUM_FEATURES):\n",
    "    \n",
    "    data_set = np.zeros((NUM_OBS, NUM_FEATURES), np.float32)\n",
    "    num_pos = num_neg = int(NUM_OBS/2)\n",
    "    pos_count = neg_count = num_pos\n",
    "    pos_ind, neg_ind = 0, num_neg\n",
    "\n",
    "    while (pos_count > 0 or neg_count > 0):\n",
    "            Xrand = np.random.randn(1000, NUM_FEATURES)\n",
    "            pos_ex = [x for x in Xrand if np.sum(x*x) > 9.34]\n",
    "            pos_df = np.row_stack(pos_ex)\n",
    "\n",
    "            neg_ex = [x for x in Xrand if np.sum(x*x) <= 9.34]\n",
    "            neg_df = np.row_stack(neg_ex)\n",
    "\n",
    "\n",
    "            if pos_count >= len(pos_ex):\n",
    "                data_set[range(pos_ind, pos_ind + len(pos_ex)),:] = pos_df[:,:]\n",
    "                pos_count -= len(pos_ex)\n",
    "                pos_ind += len(pos_ex)\n",
    "            else:\n",
    "                data_set[range(pos_ind, pos_ind + pos_count), :] = pos_df[range(0,pos_count), :]\n",
    "                pos_count -= pos_count\n",
    "                pos_ind += pos_count\n",
    "\n",
    "            if neg_count >= len(neg_ex):\n",
    "                data_set[range(neg_ind, neg_ind + len(neg_ex)),:] = neg_df[:,:]\n",
    "                neg_count -= len(neg_ex)\n",
    "                neg_ind += len(neg_ex)\n",
    "            else:\n",
    "                data_set[range(neg_ind, neg_ind + neg_count), :] = neg_df[range(0,neg_count), :]\n",
    "                neg_count -= neg_count\n",
    "                neg_ind += neg_count\n",
    "#             print(pos_count, pos_ind, len(pos_ex))\n",
    "    \n",
    "    return data_set"
   ]
  },
  {
   "cell_type": "markdown",
   "metadata": {},
   "source": [
    "### Generate Dataset "
   ]
  },
  {
   "cell_type": "code",
   "execution_count": 4,
   "metadata": {},
   "outputs": [
    {
     "name": "stdout",
     "output_type": "stream",
     "text": [
      "1000 1000 5000 5000\n"
     ]
    }
   ],
   "source": [
    "train_x = genDataset(NUM_TRAIN, NUM_FEATURES)\n",
    "train_y = np.ravel([1 if np.sum(x*x) > 9.34 else -1 for x in train_x])\n",
    "test_x = genDataset(NUM_TEST, NUM_FEATURES)\n",
    "test_y = np.ravel([1 if np.sum(x*x) > 9.34 else -1 for x in test_x])\n",
    "\n",
    "train_num_pos = sum(train_y == 1)\n",
    "train_num_neg = sum(train_y == -1)\n",
    "\n",
    "test_num_pos = sum(test_y == 1)\n",
    "test_num_neg = sum(test_y == -1)\n",
    "\n",
    "print(train_num_pos, train_num_neg, test_num_pos, test_num_neg)"
   ]
  },
  {
   "cell_type": "code",
   "execution_count": 5,
   "metadata": {},
   "outputs": [],
   "source": [
    "# k = 10;\n",
    "# baggClass = BaggingClassifier(n_estimators=k)\n",
    "# baggClass.fit(train_x, train_y)\n",
    "# test_pred = baggClass.predict(test_x)\n",
    "# print('Accuracy:', np.sum(test_pred == test_y)/NUM_TEST * 100)"
   ]
  },
  {
   "cell_type": "markdown",
   "metadata": {},
   "source": [
    "### Get best num_esimators for Bagging"
   ]
  },
  {
   "cell_type": "code",
   "execution_count": 6,
   "metadata": {},
   "outputs": [
    {
     "name": "stdout",
     "output_type": "stream",
     "text": [
      "47\n"
     ]
    },
    {
     "data": {
      "image/png": "[encoded data removed]",
      "text/plain": [
       "<matplotlib.figure.Figure at 0x7fcb10558e48>"
      ]
     },
     "metadata": {},
     "output_type": "display_data"
    }
   ],
   "source": [
    "baggClass = BaggingClassifier(oob_score=True)\n",
    "oob_errors = []\n",
    "num_estimators_list = range(1, NUM_TRIALS);\n",
    "\n",
    "for i in num_estimators_list:\n",
    "    baggClass.set_params(n_estimators=i)\n",
    "    baggClass.fit(train_x, train_y)\n",
    "    \n",
    "    # Record the OOB error for each `n_estimators=i` setting.\n",
    "    oob = 1 - baggClass.oob_score_\n",
    "    oob_errors.append(oob)\n",
    "\n",
    "baggClass_k = oob_errors.index(min(oob_errors))\n",
    "print(baggClass_k)\n",
    "plt.plot(num_estimators_list, oob_errors)\n",
    "plt.show()"
   ]
  },
  {
   "cell_type": "markdown",
   "metadata": {},
   "source": [
    "### Getting best num_estimators for Random Forest (m=1)"
   ]
  },
  {
   "cell_type": "code",
   "execution_count": 7,
   "metadata": {},
   "outputs": [
    {
     "name": "stdout",
     "output_type": "stream",
     "text": [
      "48\n"
     ]
    },
    {
     "data": {
      "image/png": "[encoded data removed]",
      "text/plain": [
       "<matplotlib.figure.Figure at 0x7fcb0c656ac8>"
      ]
     },
     "metadata": {},
     "output_type": "display_data"
    }
   ],
   "source": [
    "randForest = RandomForestClassifier(max_features=1, oob_score=True)\n",
    "oob_errors = []\n",
    "num_estimators_list = range(1, NUM_TRIALS);\n",
    "\n",
    "for i in num_estimators_list:\n",
    "    randForest.set_params(n_estimators=i)\n",
    "    randForest.fit(train_x, train_y)\n",
    "    \n",
    "    # Record the OOB error for each `n_estimators=i` setting.\n",
    "    oob = 1 - randForest.oob_score_\n",
    "    oob_errors.append(oob)\n",
    "\n",
    "randForest1_k = oob_errors.index(min(oob_errors))\n",
    "print(randForest1_k)\n",
    "plt.plot(num_estimators_list, oob_errors)\n",
    "plt.show()"
   ]
  },
  {
   "cell_type": "markdown",
   "metadata": {},
   "source": [
    "### Getting best num_estimators for Random Forest (m=3)"
   ]
  },
  {
   "cell_type": "code",
   "execution_count": 8,
   "metadata": {},
   "outputs": [
    {
     "name": "stdout",
     "output_type": "stream",
     "text": [
      "48\n"
     ]
    },
    {
     "data": {
      "image/png": "[encoded data removed]",
      "text/plain": [
       "<matplotlib.figure.Figure at 0x7fcb0c5cd550>"
      ]
     },
     "metadata": {},
     "output_type": "display_data"
    }
   ],
   "source": [
    "randForest.set_params(max_features=3)\n",
    "oob_errors = []\n",
    "num_estimators_list = range(1, NUM_TRIALS);\n",
    "\n",
    "for i in num_estimators_list:\n",
    "    randForest.set_params(n_estimators=i)\n",
    "    randForest.fit(train_x, train_y)\n",
    "    \n",
    "    # Record the OOB error for each `n_estimators=i` setting.\n",
    "    oob = 1 - randForest.oob_score_\n",
    "    oob_errors.append(oob)\n",
    "    \n",
    "randForest2_k = oob_errors.index(min(oob_errors))\n",
    "print(randForest2_k)\n",
    "plt.plot(num_estimators_list, oob_errors)\n",
    "plt.show()"
   ]
  },
  {
   "cell_type": "markdown",
   "metadata": {},
   "source": [
    "### Getting best num_estimators for AdaBoost"
   ]
  },
  {
   "cell_type": "code",
   "execution_count": 9,
   "metadata": {},
   "outputs": [
    {
     "name": "stdout",
     "output_type": "stream",
     "text": [
      "Accuracy: 86.37\n"
     ]
    }
   ],
   "source": [
    "adaBoost = AdaBoostClassifier();\n",
    "\n",
    "adaBoost.fit(train_x, train_y)\n",
    "test_pred = adaBoost.predict(test_x)\n",
    "print('Accuracy:', np.sum(test_pred == test_y)/NUM_TEST * 100)"
   ]
  },
  {
   "cell_type": "code",
   "execution_count": 10,
   "metadata": {},
   "outputs": [
    {
     "name": "stdout",
     "output_type": "stream",
     "text": [
      "Accuracy: 87.45\n"
     ]
    }
   ],
   "source": [
    "xgClass = xgboost.XGBClassifier()\n",
    "xgClass.fit(train_x, train_y)\n",
    "test_pred = xgClass.predict(test_x)\n",
    "print('Accuracy:', np.sum(test_pred == test_y)/NUM_TEST * 100)"
   ]
  },
  {
   "cell_type": "code",
   "execution_count": 16,
   "metadata": {},
   "outputs": [],
   "source": [
    "c1 = BaggingClassifier(n_estimators = baggClass_k)\n",
    "c2 = RandomForestClassifier(n_estimators = randForest1_k, max_features=1)\n",
    "c3 = RandomForestClassifier(n_estimators = randForest2_k, max_features=3)\n",
    "c4 = AdaBoostClassifier()\n",
    "c5 = xgboost.XGBClassifier()\n",
    "\n",
    "acc1, acc2, acc3, acc4, acc5 = [], [], [], [], []\n",
    "\n",
    "for i in range(NUM_TRIALS):\n",
    "    train_x = genDataset(NUM_TRAIN, NUM_FEATURES)\n",
    "    train_y = np.ravel([1 if np.sum(x*x) > 9.34 else -1 for x in train_x])\n",
    "    test_x = genDataset(NUM_TEST, NUM_FEATURES)\n",
    "    test_y = np.ravel([1 if np.sum(x*x) > 9.34 else -1 for x in test_x])\n",
    "    \n",
    "    c1.fit(train_x, train_y)\n",
    "    c2.fit(train_x, train_y)\n",
    "    c3.fit(train_x, train_y)\n",
    "    c4.fit(train_x, train_y)\n",
    "    c5.fit(train_x, train_y)\n",
    "    \n",
    "    pred1 = c1.predict(test_x)\n",
    "    acc1.append(100 - np.sum(pred1 == test_y)/NUM_TEST * 100)\n",
    "    \n",
    "    pred2 = c2.predict(test_x)\n",
    "    acc2.append(100 - np.sum(pred2 == test_y)/NUM_TEST * 100)\n",
    "    \n",
    "    pred3 = c3.predict(test_x)\n",
    "    acc3.append(100 - np.sum(pred3 == test_y)/NUM_TEST * 100)\n",
    "    \n",
    "    pred4 = c4.predict(test_x)\n",
    "    acc4.append(100 - np.sum(pred4 == test_y)/NUM_TEST * 100)\n",
    "    \n",
    "    pred5 = c5.predict(test_x)\n",
    "    acc5.append(100 - np.sum(pred5 == test_y)/NUM_TEST * 100)"
   ]
  },
  {
   "cell_type": "code",
   "execution_count": 20,
   "metadata": {},
   "outputs": [
    {
     "data": {
      "image/png": "[encoded data removed]",
      "text/plain": [
       "<matplotlib.figure.Figure at 0x7fcb0ab86cf8>"
      ]
     },
     "metadata": {},
     "output_type": "display_data"
    }
   ],
   "source": [
    "acc_data = [acc1, acc2, acc3, acc4, acc5]\n",
    "labels = ['Bagging', 'Rand Forest(m=1)', 'Rand Forest(m=3)', 'Boosting', 'XgBoost']\n",
    "\n",
    "fig = plt.figure(1, figsize=(9, 6))\n",
    "ax = fig.add_subplot(111)\n",
    "bp = ax.boxplot(acc_data, patch_artist=True)\n",
    "\n",
    "## change outline color, fill color and linewidth of the boxes\n",
    "for box in bp['boxes']:\n",
    "    # change outline color\n",
    "    box.set( color='#173d5b', linewidth=2)\n",
    "    # change fill color\n",
    "    box.set( facecolor = '#173d5b' )\n",
    "\n",
    "## change color and linewidth of the whiskers\n",
    "for whisker in bp['whiskers']:\n",
    "    whisker.set(color='#7570b3', linewidth=2)\n",
    "\n",
    "## change color and linewidth of the caps\n",
    "for cap in bp['caps']:\n",
    "    cap.set(color='#7570b3', linewidth=2)\n",
    "\n",
    "## change color and linewidth of the medians\n",
    "for median in bp['medians']:\n",
    "    median.set(color='#b2df8a', linewidth=2)\n",
    "\n",
    "## change the style of fliers and their fill\n",
    "for flier in bp['fliers']:\n",
    "    flier.set(marker='o', color='#e7298a', alpha=0.5)\n",
    "\n",
    "ax.set_xticklabels(labels)\n",
    "# fig.canvas.set_window_title('Comparing classifiers')\n",
    "# xtickNames = plt.setp(ax1, xticklabels=np.repeat(labels, 3))\n",
    "\n",
    "# bp = plt.boxplot(acc_data)\n",
    "# plt.setp(bp['boxes'], color='black')\n",
    "# plt.setp(bp['whiskers'], color='black')\n",
    "# plt.setp(bp['fliers'], color='red', marker='+')\n",
    "plt.ylabel('Error (percentage)')\n",
    "plt.title('Comparing Different classification techniques')\n",
    "plt.show()"
   ]
  },
  {
   "cell_type": "code",
   "execution_count": 18,
   "metadata": {},
   "outputs": [
    {
     "data": {
      "text/plain": [
       "256"
      ]
     },
     "execution_count": 18,
     "metadata": {},
     "output_type": "execute_result"
    }
   ],
   "source": [
    "import os\n",
    "os.system('say your job is done')"
   ]
  }
 ],
 "metadata": {
  "kernelspec": {
   "display_name": "Python 3",
   "language": "python",
   "name": "python3"
  },
  "language_info": {
   "codemirror_mode": {
    "name": "ipython",
    "version": 3
   },
   "file_extension": ".py",
   "mimetype": "text/x-python",
   "name": "python",
   "nbconvert_exporter": "python",
   "pygments_lexer": "ipython3",
   "version": "3.5.2"
  }
 },
 "nbformat": 4,
 "nbformat_minor": 2
}
