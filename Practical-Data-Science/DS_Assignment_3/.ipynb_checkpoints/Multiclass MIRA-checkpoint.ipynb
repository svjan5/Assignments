{
 "cells": [
  {
   "cell_type": "code",
   "execution_count": 1,
   "metadata": {},
   "outputs": [],
   "source": [
    "import numpy as np\n",
    "import pandas as pd\n",
    "from sklearn.datasets import fetch_rcv1\n",
    "import matplotlib.pyplot as plt\n",
    "plt.style.use('ggplot')\n",
    "import _pickle as cPickel\n",
    "import scipy.sparse as sp\n",
    "import xgboost\n",
    "import os"
   ]
  },
  {
   "cell_type": "markdown",
   "metadata": {},
   "source": [
    "### Loading dataset "
   ]
  },
  {
   "cell_type": "code",
   "execution_count": 2,
   "metadata": {
    "collapsed": true
   },
   "outputs": [],
   "source": [
    "N_TRAIN = 15564\n",
    "N_TEST = 518571\n",
    "N_FEATURES = 47236\n",
    "N_CLASS = 53"
   ]
  },
  {
   "cell_type": "code",
   "execution_count": 3,
   "metadata": {},
   "outputs": [],
   "source": [
    "# %%time\n",
    "# fname = '/home/shikhar/scikit_learn_data/Original_rcv1_train.multiclass'\n",
    "\n",
    "# y_train = np.zeros((N_TRAIN, 1), np.int8)\n",
    "# x_train = sp.lil_matrix((N_TRAIN, N_FEATURES+1))\n",
    "\n",
    "# index = 0;\n",
    "# with open(fname, 'r') as ins:\n",
    "#     for line in ins:\n",
    "#         line = line[:-1]\n",
    "#         line_components = line.split(' ')\n",
    "#         for comp in line_components[1:]:\n",
    "#             ind_val = comp.split(':')\n",
    "#             ind = int(ind_val[0])\n",
    "#             val = float(ind_val[1])\n",
    "#             x_train[index, ind-1] = val\n",
    "#         x_train[index, N_FEATURES] = 1\n",
    "#         y_train[index] = int(line_components[0])\n",
    "#         index += 1\n",
    "        \n",
    "# x_train = sp.csr_matrix(x_train)"
   ]
  },
  {
   "cell_type": "code",
   "execution_count": 4,
   "metadata": {},
   "outputs": [],
   "source": [
    "# f = open('/home/shikhar/scikit_learn_data/rcv1_multiclass_x_train', 'wb')\n",
    "# cPickel.dump(x_train, f)\n",
    "# f.close()\n",
    "\n",
    "# f = open('/home/shikhar/scikit_learn_data/rcv1_multiclass_y_train', 'wb')\n",
    "# cPickel.dump(y_train, f)\n",
    "# f.close()"
   ]
  },
  {
   "cell_type": "code",
   "execution_count": 5,
   "metadata": {},
   "outputs": [],
   "source": [
    "# %%time\n",
    "# fname = '/home/shikhar/scikit_learn_data/Original_rcv1_test.multiclass'\n",
    "\n",
    "# y_test = np.zeros((N_TEST, 1), np.int8)\n",
    "# x_test = sp.lil_matrix((N_TEST, N_FEATURES+1))\n",
    "\n",
    "# index = 0;\n",
    "# with open(fname, 'r') as ins:\n",
    "#     for line in ins:\n",
    "#         line = line[:-1]\n",
    "#         line_components = line.split(' ')\n",
    "#         for comp in line_components[1:]:\n",
    "#             ind_val = comp.split(':')\n",
    "#             ind = int(ind_val[0])\n",
    "#             val = float(ind_val[1])\n",
    "#             x_test[index, ind-1] = val\n",
    "#         x_test[index, N_FEATURES] = 1\n",
    "#         y_test[index] = int(line_components[0])\n",
    "#         index += 1\n",
    "\n",
    "# x_test = sp.csr_matrix(x_test)"
   ]
  },
  {
   "cell_type": "code",
   "execution_count": 6,
   "metadata": {
    "collapsed": true
   },
   "outputs": [],
   "source": [
    "# f = open('/home/shikhar/scikit_learn_data/rcv1_multiclass_x_test', 'wb')\n",
    "# cPickel.dump(x_test, f)\n",
    "# f.close()\n",
    "\n",
    "# f = open('/home/shikhar/scikit_learn_data/rcv1_multiclass_y_test', 'wb')\n",
    "# cPickel.dump(y_test, f)\n",
    "# f.close()"
   ]
  },
  {
   "cell_type": "markdown",
   "metadata": {},
   "source": [
    "### Load from preprocessed data"
   ]
  },
  {
   "cell_type": "code",
   "execution_count": 8,
   "metadata": {},
   "outputs": [],
   "source": [
    "# print(x_train.shape, y_train.shape, x_test.shape, y_test.shape)"
   ]
  },
  {
   "cell_type": "code",
   "execution_count": 5,
   "metadata": {},
   "outputs": [
    {
     "name": "stdout",
     "output_type": "stream",
     "text": [
      "CPU times: user 140 ms, sys: 1.2 s, total: 1.34 s\n",
      "Wall time: 8.48 s\n"
     ]
    }
   ],
   "source": [
    "%%time\n",
    "f = open('/home/shikhar/scikit_learn_data/rcv1_multiclass_x_train',  'rb')\n",
    "x_train = cPickel.load(f)\n",
    "f.close()\n",
    "x_train = sp.csr_matrix(x_train)\n",
    "\n",
    "f = open('/home/shikhar/scikit_learn_data/rcv1_multiclass_y_train',  'rb')\n",
    "y_train = cPickel.load(f)\n",
    "f.close()\n",
    "y_train = np.int8(y_train)\n",
    "\n",
    "f = open('/home/shikhar/scikit_learn_data/rcv1_multiclass_x_test',  'rb')\n",
    "x_test = cPickel.load(f)\n",
    "f.close()\n",
    "x_test = sp.csr_matrix(x_test)\n",
    "\n",
    "f = open('/home/shikhar/scikit_learn_data/rcv1_multiclass_y_test',  'rb')\n",
    "y_test = cPickel.load(f)\n",
    "f.close()\n",
    "y_test = np.int8(y_test)\n"
   ]
  },
  {
   "cell_type": "code",
   "execution_count": 6,
   "metadata": {
    "collapsed": true
   },
   "outputs": [],
   "source": [
    "N_TEST = 50000\n",
    "x_test = x_test[0:N_TEST, :]\n",
    "y_test = y_test[0:N_TEST, :]"
   ]
  },
  {
   "cell_type": "code",
   "execution_count": 7,
   "metadata": {},
   "outputs": [
    {
     "name": "stdout",
     "output_type": "stream",
     "text": [
      "(15564, 47237) (15564, 1) (50000, 47237) (50000, 1)\n"
     ]
    }
   ],
   "source": [
    "print(x_train.shape, y_train.shape, x_test.shape, y_test.shape)"
   ]
  },
  {
   "cell_type": "markdown",
   "metadata": {},
   "source": [
    "### Training Model"
   ]
  },
  {
   "cell_type": "code",
   "execution_count": 13,
   "metadata": {},
   "outputs": [
    {
     "name": "stdout",
     "output_type": "stream",
     "text": [
      "Train accuracy calcuated:  87.7537907992804\n",
      "Test accuracy calcuated:  75.422\n",
      "Epoch 0 over \n",
      "\n",
      "\n",
      "Train accuracy calcuated:  92.1485479311231\n",
      "Test accuracy calcuated:  77.824\n",
      "Epoch 1 over \n",
      "\n",
      "\n",
      "Train accuracy calcuated:  96.38910305833976\n",
      "Test accuracy calcuated:  82.096\n",
      "Epoch 2 over \n",
      "\n",
      "\n",
      "Train accuracy calcuated:  94.56437933693138\n",
      "Test accuracy calcuated:  79.434\n",
      "Epoch 3 over \n",
      "\n",
      "\n",
      "Train accuracy calcuated:  97.19866358262658\n",
      "Test accuracy calcuated:  82.55799999999999\n",
      "Epoch 4 over \n",
      "\n",
      "\n",
      "Train accuracy calcuated:  97.35286558725264\n",
      "Test accuracy calcuated:  81.444\n",
      "Epoch 5 over \n",
      "\n",
      "\n",
      "Train accuracy calcuated:  98.06604985864816\n",
      "Test accuracy calcuated:  82.25\n",
      "Epoch 6 over \n",
      "\n",
      "\n",
      "Train accuracy calcuated:  98.08532510922642\n",
      "Test accuracy calcuated:  82.8\n",
      "Epoch 7 over \n",
      "\n",
      "\n",
      "Train accuracy calcuated:  97.230789000257\n",
      "Test accuracy calcuated:  81.308\n",
      "Epoch 8 over \n",
      "\n",
      "\n",
      "Train accuracy calcuated:  98.04034952454383\n",
      "Test accuracy calcuated:  82.732\n",
      "Epoch 9 over \n",
      "\n",
      "\n",
      "Train accuracy calcuated:  98.76638396299153\n",
      "Test accuracy calcuated:  83.91199999999999\n",
      "Epoch 10 over \n",
      "\n",
      "\n",
      "Train accuracy calcuated:  97.96967360575688\n",
      "Test accuracy calcuated:  81.974\n",
      "Epoch 11 over \n",
      "\n",
      "\n",
      "Train accuracy calcuated:  97.96967360575688\n",
      "Test accuracy calcuated:  81.902\n",
      "Epoch 12 over \n",
      "\n",
      "\n",
      "Train accuracy calcuated:  98.60575687483937\n",
      "Test accuracy calcuated:  83.746\n",
      "Epoch 13 over \n",
      "\n",
      "\n",
      "Train accuracy calcuated:  99.38319198149576\n",
      "Test accuracy calcuated:  84.60600000000001\n",
      "Epoch 14 over \n",
      "\n",
      "\n",
      "Train accuracy calcuated:  98.98483680287843\n",
      "Test accuracy calcuated:  84.16\n",
      "Epoch 15 over \n",
      "\n",
      "\n",
      "Train accuracy calcuated:  97.230789000257\n",
      "Test accuracy calcuated:  81.318\n",
      "Epoch 16 over \n",
      "\n",
      "\n",
      "Train accuracy calcuated:  98.42585453610897\n",
      "Test accuracy calcuated:  82.804\n",
      "Epoch 17 over \n",
      "\n",
      "\n",
      "Train accuracy calcuated:  97.41711642251349\n",
      "Test accuracy calcuated:  81.066\n",
      "Epoch 18 over \n",
      "\n",
      "\n",
      "Train accuracy calcuated:  99.0876381392958\n",
      "Test accuracy calcuated:  83.928\n",
      "Epoch 19 over \n",
      "\n",
      "\n",
      "Train accuracy calcuated:  99.18401439218711\n",
      "Test accuracy calcuated:  83.83800000000001\n",
      "Epoch 20 over \n",
      "\n",
      "\n",
      "Train accuracy calcuated:  98.58005654073503\n",
      "Test accuracy calcuated:  82.664\n",
      "Epoch 21 over \n",
      "\n",
      "\n",
      "Train accuracy calcuated:  98.37445386790029\n",
      "Test accuracy calcuated:  82.608\n",
      "Epoch 22 over \n",
      "\n",
      "\n",
      "Train accuracy calcuated:  99.52454381906965\n",
      "Test accuracy calcuated:  84.796\n",
      "Epoch 23 over \n",
      "\n",
      "\n",
      "Train accuracy calcuated:  99.47956823438705\n",
      "Test accuracy calcuated:  84.13199999999999\n",
      "Epoch 24 over \n",
      "\n",
      "\n",
      "Train accuracy calcuated:  98.20097661269597\n",
      "Test accuracy calcuated:  81.452\n",
      "Epoch 25 over \n",
      "\n",
      "\n",
      "Train accuracy calcuated:  99.40246723207402\n",
      "Test accuracy calcuated:  84.24000000000001\n",
      "Epoch 26 over \n",
      "\n",
      "\n",
      "Train accuracy calcuated:  98.04034952454383\n",
      "Test accuracy calcuated:  82.176\n",
      "Epoch 27 over \n",
      "\n",
      "\n",
      "Train accuracy calcuated:  97.80904651760473\n",
      "Test accuracy calcuated:  81.062\n",
      "Epoch 28 over \n",
      "\n",
      "\n",
      "Train accuracy calcuated:  98.95913646877409\n",
      "Test accuracy calcuated:  82.88799999999999\n",
      "Epoch 29 over \n",
      "\n",
      "\n",
      "Train accuracy calcuated:  98.502955538422\n",
      "Test accuracy calcuated:  81.772\n",
      "Epoch 30 over \n",
      "\n",
      "\n",
      "Train accuracy calcuated:  98.92701105114367\n",
      "Test accuracy calcuated:  83.14200000000001\n",
      "Epoch 31 over \n",
      "\n",
      "\n",
      "Train accuracy calcuated:  99.20971472629144\n",
      "Test accuracy calcuated:  83.74000000000001\n",
      "Epoch 32 over \n",
      "\n",
      "\n",
      "Train accuracy calcuated:  99.40246723207402\n",
      "Test accuracy calcuated:  83.548\n",
      "Epoch 33 over \n",
      "\n",
      "\n",
      "Train accuracy calcuated:  98.80493446414803\n",
      "Test accuracy calcuated:  82.73\n",
      "Epoch 34 over \n",
      "\n",
      "\n",
      "Train accuracy calcuated:  99.05551272166538\n",
      "Test accuracy calcuated:  83.062\n",
      "Epoch 35 over \n",
      "\n",
      "\n",
      "Train accuracy calcuated:  98.48368028784374\n",
      "Test accuracy calcuated:  82.03399999999999\n",
      "Epoch 36 over \n",
      "\n",
      "\n",
      "Train accuracy calcuated:  99.32536622976099\n",
      "Test accuracy calcuated:  84.248\n",
      "Epoch 37 over \n",
      "\n",
      "\n",
      "Train accuracy calcuated:  98.16242611153945\n",
      "Test accuracy calcuated:  80.784\n",
      "Epoch 38 over \n",
      "\n",
      "\n",
      "Train accuracy calcuated:  99.35106656386533\n",
      "Test accuracy calcuated:  83.744\n",
      "Epoch 39 over \n",
      "\n",
      "\n",
      "Train accuracy calcuated:  99.30609097918273\n",
      "Test accuracy calcuated:  83.72\n",
      "Epoch 40 over \n",
      "\n",
      "\n",
      "Train accuracy calcuated:  99.16473914160883\n",
      "Test accuracy calcuated:  83.554\n",
      "Epoch 41 over \n",
      "\n",
      "\n",
      "Train accuracy calcuated:  99.03623747108713\n",
      "Test accuracy calcuated:  83.746\n",
      "Epoch 42 over \n",
      "\n",
      "\n",
      "Train accuracy calcuated:  98.93343613466975\n",
      "Test accuracy calcuated:  83.092\n",
      "Epoch 43 over \n",
      "\n",
      "\n",
      "Train accuracy calcuated:  99.48599331791314\n",
      "Test accuracy calcuated:  84.272\n",
      "Epoch 44 over \n",
      "\n",
      "\n",
      "Train accuracy calcuated:  99.28039064507838\n",
      "Test accuracy calcuated:  84.07\n",
      "Epoch 45 over \n",
      "\n",
      "\n",
      "Train accuracy calcuated:  99.65947057311745\n",
      "Test accuracy calcuated:  84.974\n",
      "Epoch 46 over \n",
      "\n",
      "\n",
      "Train accuracy calcuated:  99.62092007196094\n",
      "Test accuracy calcuated:  85.138\n",
      "Epoch 47 over \n",
      "\n",
      "\n",
      "Train accuracy calcuated:  99.57594448727833\n",
      "Test accuracy calcuated:  84.97\n",
      "Epoch 48 over \n",
      "\n",
      "\n",
      "Train accuracy calcuated:  99.3639167309175\n",
      "Test accuracy calcuated:  83.554\n",
      "Epoch 49 over \n",
      "\n",
      "\n"
     ]
    }
   ],
   "source": [
    "W = np.random.rand(N_CLASS, N_FEATURES+1)\n",
    "max_iter = 50;\n",
    "train_acc = []\n",
    "test_acc = []\n",
    "\n",
    "for k in range(max_iter):\n",
    "    for i in range(N_TRAIN):\n",
    "        x = x_train[i,:].todense()\n",
    "        y_hat = W @ x.T\n",
    "        y_pred = np.argmax(y_hat)\n",
    "        \n",
    "        if(y_pred != y_train[i]):\n",
    "            E = y_hat > y_hat[y_train[i]]\n",
    "            mag_E = np.sum(E)\n",
    "            w_upt = E @ (x/mag_E);\n",
    "            W = W - w_upt\n",
    "            W[y_train[i],:] += x\n",
    "            \n",
    "    crct = 0;\n",
    "    for i in range(N_TRAIN):\n",
    "        xtrain = x_train[i,:].todense()\n",
    "        ytrain_hat = W @ xtrain.T\n",
    "        ytrain_pred = np.argmax(ytrain_hat)\n",
    "        if(ytrain_pred == y_train[i]):\n",
    "            crct += 1\n",
    "            \n",
    "    train_acc.append(crct/N_TRAIN * 100)\n",
    "    print('Train accuracy calcuated: ', crct/N_TRAIN * 100)\n",
    "    \n",
    "    crct = 0;\n",
    "    for i in range(N_TEST):\n",
    "        xtest = x_test[i,:].todense()\n",
    "        ytest_hat = W @ xtest.T\n",
    "        ytest_pred = np.argmax(ytest_hat)\n",
    "        if(ytest_pred == y_test[i]):\n",
    "            crct += 1\n",
    "            \n",
    "    test_acc.append(crct/N_TEST * 100)\n",
    "    print('Test accuracy calcuated: ', crct/N_TEST * 100)\n",
    "    \n",
    "    print('Epoch %d over \\n\\n' % k)"
   ]
  },
  {
   "cell_type": "markdown",
   "metadata": {},
   "source": [
    "### Predicting on Training set "
   ]
  },
  {
   "cell_type": "code",
   "execution_count": 14,
   "metadata": {},
   "outputs": [
    {
     "name": "stdout",
     "output_type": "stream",
     "text": [
      "Training Accuracy 0.993639167309175\n"
     ]
    }
   ],
   "source": [
    "crct = 0;\n",
    "for i in range(N_TRAIN):\n",
    "    x = x_train[i,:].todense()\n",
    "    y_hat = W @ x.T\n",
    "    y_pred = np.argmax(y_hat)\n",
    "    if(y_pred == y_train[i]):\n",
    "        crct += 1\n",
    "\n",
    "print('Training Accuracy', crct / N_TRAIN)"
   ]
  },
  {
   "cell_type": "markdown",
   "metadata": {},
   "source": [
    "### Comparing with xgboost"
   ]
  },
  {
   "cell_type": "code",
   "execution_count": 8,
   "metadata": {},
   "outputs": [
    {
     "name": "stderr",
     "output_type": "stream",
     "text": [
      "/usr/lib/python3/dist-packages/sklearn/preprocessing/label.py:108: DataConversionWarning: A column-vector y was passed when a 1d array was expected. Please change the shape of y to (n_samples, ), for example using ravel().\n",
      "  y = column_or_1d(y, warn=True)\n"
     ]
    },
    {
     "name": "stdout",
     "output_type": "stream",
     "text": [
      "Train Accuracy 95.84297095862246\n",
      "Test Accuracy 83.03\n"
     ]
    }
   ],
   "source": [
    "xgClass = xgboost.XGBClassifier()\n",
    "xgClass.fit(x_train, y_train)\n",
    "train_pred = xgClass.predict(x_train)\n",
    "crct = 0\n",
    "for i in range(N_TRAIN):\n",
    "    if(train_pred[i] == y_train[i]):\n",
    "        crct += 1\n",
    "        \n",
    "xg_train = (crct)/N_TRAIN * 100\n",
    "print ('Train Accuracy', xg_train)\n",
    "\n",
    "test_pred = xgClass.predict(x_test)\n",
    "\n",
    "crct = 0\n",
    "for i in range(N_TEST):\n",
    "    if(test_pred[i] == y_test[i]):\n",
    "        crct += 1\n",
    "\n",
    "xg_test_acc = (crct)/N_TEST * 100\n",
    "print ('Test Accuracy', xg_test_acc) "
   ]
  },
  {
   "cell_type": "code",
   "execution_count": 21,
   "metadata": {},
   "outputs": [
    {
     "data": {
      "image/png": "[encoded data removed]",
      "text/plain": [
       "<matplotlib.figure.Figure at 0x7fd1af5e0390>"
      ]
     },
     "metadata": {},
     "output_type": "display_data"
    }
   ],
   "source": [
    "plt.style.use('ggplot')\n",
    "\n",
    "plt.rcParams[\"figure.figsize\"] = (10,6)\n",
    "plt.plot(train_acc)\n",
    "plt.plot(test_acc)\n",
    "plt.plot((0, max_iter-1), (xg_train, xg_train))\n",
    "plt.plot((0, max_iter-1), (xg_test_acc, xg_test_acc))\n",
    "\n",
    "plt.legend(['MIRA train acc','MIRA test acc','xg train acc', 'xg test acc'], loc=4)\n",
    "plt.xlabel('Epochs')\n",
    "plt.ylabel('Accuracy')\n",
    "plt.title('Multiclass MIRA')\n",
    "plt.show()"
   ]
  },
  {
   "cell_type": "code",
   "execution_count": 18,
   "metadata": {},
   "outputs": [
    {
     "data": {
      "text/plain": [
       "256"
      ]
     },
     "execution_count": 18,
     "metadata": {},
     "output_type": "execute_result"
    }
   ],
   "source": [
    "import os\n",
    "os.system('say done')"
   ]
  },
  {
   "cell_type": "code",
   "execution_count": 18,
   "metadata": {
    "collapsed": true
   },
   "outputs": [],
   "source": [
    "max_iter = 50\n",
    "test_acc = [  75.422,  77.824,  82.096,  79.434,  82.55799999999999,  81.444,  82.25,  82.8,  81.308,  82.732,  83.91199999999999,  81.974,  81.902,  83.746,  84.60600000000001,  84.16,  81.318,  82.804,  81.066,  83.928,  83.83800000000001,  82.664,  82.608,  84.796,  84.13199999999999,  81.452,  84.24000000000001,  82.176,  81.062,  82.88799999999999,  81.772,  83.14200000000001,  83.74000000000001,  83.548,  82.73,  83.062,  82.03399999999999,  84.248,  80.784,  83.744,  83.72,  83.554,  83.746,  83.092,  84.272,  84.07,  84.974,  85.138,  84.97,  83.554]\n",
    "train_acc = [  87.7537907992804,   92.1485479311231,   96.38910305833976,   94.56437933693138,   97.19866358262658,   97.35286558725264,   98.06604985864816,   98.08532510922642,   97.230789000257,   98.04034952454383,   98.76638396299153,   97.96967360575688,   97.96967360575688,   98.60575687483937,   99.38319198149576,   98.98483680287843,   97.230789000257,   98.42585453610897,   97.41711642251349,   99.0876381392958,   99.18401439218711,   98.58005654073503,   98.37445386790029,   99.52454381906965,   99.47956823438705,   98.20097661269597,   99.40246723207402,   98.04034952454383,   97.80904651760473,   98.95913646877409,   98.502955538422,   98.92701105114367,   99.20971472629144,   99.40246723207402,   98.80493446414803,   99.05551272166538,   98.48368028784374,   99.32536622976099,   98.16242611153945,   99.35106656386533,   99.30609097918273,   99.16473914160883,   99.03623747108713,   98.93343613466975,   99.48599331791314,   99.28039064507838,   99.65947057311745,   99.62092007196094,   99.57594448727833,   99.3639167309175]\n",
    "for i in range(len(test_acc)):\n",
    "    test_acc[i] = 100 - test_acc[i]\n",
    "\n",
    "for i in range(len(train_acc)):\n",
    "    train_acc[i] = 100 - train_acc[i]"
   ]
  },
  {
   "cell_type": "code",
   "execution_count": 21,
   "metadata": {},
   "outputs": [
    {
     "data": {
      "image/png": "[encoded data removed]",
      "text/plain": [
       "<matplotlib.figure.Figure at 0x7fc1e13eccc0>"
      ]
     },
     "metadata": {},
     "output_type": "display_data"
    }
   ],
   "source": [
    "\n",
    "\n",
    "plt.style.use('ggplot')\n",
    "\n",
    "plt.rcParams[\"figure.figsize\"] = (10,6)\n",
    "plt.plot(train_acc)\n",
    "plt.plot(test_acc)\n",
    "plt.plot((0, max_iter-1), (100-xg_train, 100-xg_train))\n",
    "plt.plot((0, max_iter-1), (100-xg_test_acc, 100-xg_test_acc))\n",
    "\n",
    "plt.legend(['MIRA train err','MIRA test err','xg train err', 'xg test err'], loc=1)\n",
    "plt.xlabel('Epochs')\n",
    "plt.ylabel('Error')\n",
    "plt.title('Multiclass MIRA')\n",
    "plt.show()"
   ]
  }
 ],
 "metadata": {
  "kernelspec": {
   "display_name": "Python 3",
   "language": "python",
   "name": "python3"
  },
  "language_info": {
   "codemirror_mode": {
    "name": "ipython",
    "version": 3
   },
   "file_extension": ".py",
   "mimetype": "text/x-python",
   "name": "python",
   "nbconvert_exporter": "python",
   "pygments_lexer": "ipython3",
   "version": "3.5.2"
  }
 },
 "nbformat": 4,
 "nbformat_minor": 2
}
