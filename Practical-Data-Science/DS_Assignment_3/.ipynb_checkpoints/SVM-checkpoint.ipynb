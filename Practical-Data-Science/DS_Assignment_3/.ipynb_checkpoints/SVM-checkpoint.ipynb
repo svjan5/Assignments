{
 "cells": [
  {
   "cell_type": "code",
   "execution_count": 1,
   "metadata": {
    "collapsed": true
   },
   "outputs": [],
   "source": [
    "import numpy as np\n",
    "import pandas as pd\n",
    "import matplotlib.pyplot as plt\n",
    "import xgboost\n",
    "plt.style.use('ggplot')\n",
    "from sklearn.metrics.pairwise import pairwise_kernels"
   ]
  },
  {
   "cell_type": "markdown",
   "metadata": {},
   "source": [
    "### Load Train Data"
   ]
  },
  {
   "cell_type": "code",
   "execution_count": 6,
   "metadata": {},
   "outputs": [
    {
     "name": "stdout",
     "output_type": "stream",
     "text": [
      "(35000, 22)\n"
     ]
    },
    {
     "data": {
      "text/plain": [
       "array([[  0.00000000e+00,   0.00000000e+00,   0.00000000e+00, ...,\n",
       "          2.55440008e-02,  -4.07279991e-02,  -8.09999998e-04],\n",
       "       [  0.00000000e+00,   0.00000000e+00,   0.00000000e+00, ...,\n",
       "         -4.07279991e-02,  -8.09999998e-04,  -3.89000005e-03],\n",
       "       [  0.00000000e+00,   0.00000000e+00,   0.00000000e+00, ...,\n",
       "         -8.09999998e-04,  -3.89000005e-03,   4.60400013e-03],\n",
       "       ..., \n",
       "       [  0.00000000e+00,   0.00000000e+00,   1.00000000e+00, ...,\n",
       "          4.01497990e-01,  -1.22180998e-01,  -2.45745003e-01],\n",
       "       [  0.00000000e+00,   0.00000000e+00,   0.00000000e+00, ...,\n",
       "         -1.22180998e-01,  -2.45745003e-01,   2.93808997e-01],\n",
       "       [  0.00000000e+00,   0.00000000e+00,   0.00000000e+00, ...,\n",
       "         -2.45745003e-01,   2.93808997e-01,  -2.02309992e-02]], dtype=float32)"
      ]
     },
     "execution_count": 6,
     "metadata": {},
     "output_type": "execute_result"
    }
   ],
   "source": [
    "y_train = []\n",
    "train_ind_val = []\n",
    "max_key = -1\n",
    "\n",
    "# with open('/home/shikhar/scikit_learn_data/IJCNN1/ijcnn1.train', 'r') as f:\n",
    "with open('/home/shikhar/scikit_learn_data/CarType/svmguide3.txt', 'r') as f:\n",
    "    for line in f:\n",
    "        entry = line.split()\n",
    "        y_train.append(int(float(entry[0])))\n",
    "        ind_val = dict()\n",
    "        for i in range(1,len(entry)):\n",
    "            key_val = entry[i].split(':')\n",
    "            key = int(key_val[0])\n",
    "            val = float(key_val[1])\n",
    "            ind_val[key] = val\n",
    "            max_key = max(max_key, key)\n",
    "        train_ind_val.append(ind_val)\n",
    "\n",
    "N_TRAIN = len(train_ind_val)\n",
    "N_CATEGORY = max_key\n",
    "\n",
    "x_train = np.zeros((N_TRAIN, N_CATEGORY), np.float32)\n",
    "y_train = np.int8(y_train)\n",
    "\n",
    "for i in range(N_TRAIN):\n",
    "    ind_values = train_ind_val[i]\n",
    "    for (k,v) in ind_values.items():\n",
    "        x_train[i, k-1] = v\n",
    "\n",
    "print(x_train.shape)\n",
    "x_train"
   ]
  },
  {
   "cell_type": "markdown",
   "metadata": {},
   "source": [
    "### Load test data "
   ]
  },
  {
   "cell_type": "code",
   "execution_count": 7,
   "metadata": {},
   "outputs": [
    {
     "name": "stdout",
     "output_type": "stream",
     "text": [
      "(91701, 22)\n"
     ]
    },
    {
     "data": {
      "text/plain": [
       "array([[ 0.      ,  0.      ,  0.      , ...,  0.012458, -0.016884,\n",
       "         0.006842],\n",
       "       [ 0.      ,  0.      ,  0.      , ..., -0.016884,  0.006842,\n",
       "         0.005018],\n",
       "       [ 0.      ,  0.      ,  0.      , ...,  0.006842,  0.005018,\n",
       "         0.01621 ],\n",
       "       ..., \n",
       "       [ 0.      ,  0.      ,  0.      , ...,  0.008167,  0.020602,\n",
       "         0.010336],\n",
       "       [ 0.      ,  0.      ,  0.      , ...,  0.020602,  0.010336,\n",
       "        -0.018924],\n",
       "       [ 1.      ,  0.      ,  0.      , ...,  0.010336, -0.018924,\n",
       "         0.023989]], dtype=float32)"
      ]
     },
     "execution_count": 7,
     "metadata": {},
     "output_type": "execute_result"
    }
   ],
   "source": [
    "y_test = []\n",
    "test_ind_val = []\n",
    "\n",
    "# with open('/home/shikhar/scikit_learn_data/IJCNN1/ijcnn1.test', 'r') as f:\n",
    "with open('/home/shikhar/scikit_learn_data/IJCNN1/ijcnn1.test', 'r') as f:\n",
    "    for line in f:\n",
    "        entry = line.split()\n",
    "        y_test.append(int(float(entry[0])))\n",
    "        ind_val = dict()\n",
    "        for i in range(1,len(entry)):\n",
    "            key_val = entry[i].split(':')\n",
    "            key = int(key_val[0])\n",
    "            val = float(key_val[1])\n",
    "            ind_val[key] = val\n",
    "        test_ind_val.append(ind_val)\n",
    "\n",
    "N_TEST = len(test_ind_val)\n",
    "\n",
    "x_test = np.zeros((N_TEST, N_CATEGORY), np.float32)\n",
    "y_test = np.float32(y_test)\n",
    "\n",
    "for i in range(N_TEST):\n",
    "    ind_values = test_ind_val[i]\n",
    "    for (k,v) in ind_values.items():\n",
    "        x_test[i, k-1] = v\n",
    "\n",
    "print(x_test.shape)\n",
    "x_test"
   ]
  },
  {
   "cell_type": "markdown",
   "metadata": {},
   "source": [
    "### Set baseline - Training xgboost"
   ]
  },
  {
   "cell_type": "code",
   "execution_count": 4,
   "metadata": {},
   "outputs": [
    {
     "name": "stdout",
     "output_type": "stream",
     "text": [
      "Train Accuracy 96.27428571428571\n",
      "Test Accuracy 93.49734463092005\n"
     ]
    }
   ],
   "source": [
    "xgClass = xgboost.XGBClassifier()\n",
    "xgClass.fit(x_train, y_train)\n",
    "\n",
    "train_pred = xgClass.predict(x_train)\n",
    "xg_train_acc = (N_TRAIN - np.sum(train_pred == y_test)) / N_TRAIN * 100\n",
    "print ('Train Accuracy', xg_train_acc) \n",
    "\n",
    "test_pred = xgClass.predict(x_test)\n",
    "xg_test_acc = (N_TEST - np.sum(test_pred == y_test)) / N_TEST * 100\n",
    "\n",
    "print ('Test Accuracy', xg_test_acc) "
   ]
  },
  {
   "cell_type": "markdown",
   "metadata": {},
   "source": [
    "### Kernel SVM"
   ]
  },
  {
   "cell_type": "code",
   "execution_count": 4,
   "metadata": {},
   "outputs": [
    {
     "name": "stdout",
     "output_type": "stream",
     "text": [
      "Train Accuracy 91.05714285714286\n",
      "Test Accuracy 92.37958146585098\n"
     ]
    }
   ],
   "source": [
    "from sklearn import svm\n",
    "svm_kernel = svm.SVC(kernel='rbf')\n",
    "\n",
    "svm_kernel.fit(x_train, y_train)\n",
    "\n",
    "train_pred = svm_kernel.predict(x_train)\n",
    "\n",
    "crct = 0\n",
    "for i in range(N_TRAIN):\n",
    "    if(train_pred[i] == y_train[i]):\n",
    "        crct += 1\n",
    "\n",
    "kernelSVM_train_acc = (crct)/N_TRAIN * 100;\n",
    "print ('Train Accuracy', kernelSVM_train_acc) \n",
    "\n",
    "y_pred = svm_kernel.predict(x_test)\n",
    "\n",
    "kernelSVM_test_acc = (N_TEST - np.sum(y_pred == y_test)) / N_TEST * 100\n",
    "print ('Test Accuracy', kernelSVM_test_acc) "
   ]
  },
  {
   "cell_type": "markdown",
   "metadata": {},
   "source": [
    "### Low-rank linearization SVM"
   ]
  },
  {
   "cell_type": "code",
   "execution_count": null,
   "metadata": {},
   "outputs": [
    {
     "name": "stdout",
     "output_type": "stream",
     "text": [
      "Test Accuracy 8.42193651105\n",
      "Test Accuracy 8.31615794811\n",
      "Test Accuracy 8.39249299353\n",
      "Test Accuracy 8.39358349418\n",
      "Test Accuracy 8.36523047731\n",
      "Test Accuracy 8.36413997666\n"
     ]
    }
   ],
   "source": [
    "svm_score = dict()\n",
    "xg_score = dict()\n",
    "z_sizes = [100,200,400,800,1600,3200,6400]\n",
    "\n",
    "for z_num in z_sizes:\n",
    "    svm_score[z_num] = []\n",
    "    xg_score[z_num] = []\n",
    "    \n",
    "\n",
    "for k in range(10):\n",
    "    for z_num in z_sizes:\n",
    "\n",
    "        z_ind = np.random.choice(N_TRAIN, z_num, replace=False)\n",
    "        z_data = x_train[z_ind, :]\n",
    "\n",
    "        Kzz = pairwise_kernels(z_data, metric='rbf')\n",
    "        Uz, Sz, Vz = np.linalg.svd(Kzz, full_matrices=True)\n",
    "        M = Uz * np.power(Sz, -0.5)\n",
    "\n",
    "        Krz = pairwise_kernels(x_train, z_data, metric='rbf')\n",
    "        Fr = Krz @ M\n",
    "\n",
    "        # Initially assuming that all alphas are zero\n",
    "        alpha = np.zeros((N_TRAIN,), np.float32)\n",
    "\n",
    "\n",
    "        w = Fr.T @ (y_train * alpha)\n",
    "        tol = 1e-3\n",
    "        C = 1.0\n",
    "        maxIter = 100\n",
    "\n",
    "        for iter in range(maxIter):\n",
    "            for i in range(N_TRAIN):\n",
    "                res = (1 - y_train[i] * (w.T @ Fr[i,:])) / (Fr[i,:].T @ Fr[i,:])\n",
    "                delta_alpha = min(max(res, -alpha[i]), C - alpha[i])\n",
    "                w = w + delta_alpha * y_train[i] * Fr[i,:]\n",
    "                alpha[i] += delta_alpha\n",
    "\n",
    "        Kez = pairwise_kernels(x_test, z_data, metric='rbf')\n",
    "        y_pred = (Kez @ M) @ w\n",
    "        y_pred[y_pred > 0] = 1\n",
    "        y_pred[y_pred <= 0] = -1\n",
    "\n",
    "        SVM_test_acc = (N_TEST - np.sum(y_pred == y_test)) / N_TEST * 100\n",
    "        \n",
    "        svm_score[z_num].append(SVM_test_acc)\n",
    "        \n",
    "#         xgClass = xgboost.XGBClassifier()\n",
    "#         xgClass.fit(Fr, y_train)\n",
    "#         test_pred = xgClass.predict(x_test)\n",
    "#         xg_test_err = (N_TEST - np.sum(test_pred == y_test)) / N_TEST * 100         \n",
    "#         xg_score[z_num].append(xg_test_err)\n",
    "\n",
    "        print ('Test Accuracy', SVM_test_acc)"
   ]
  },
  {
   "cell_type": "code",
   "execution_count": 20,
   "metadata": {
    "collapsed": true
   },
   "outputs": [],
   "source": [
    "err_xg_boost = 100 - 93.49734463092005\n",
    "err_kernel = 100 - 92.37958146585098\n",
    "err_100 = [8.4720995409, 8.37177348121, 8.28780493124, 8.35868747342, 8.46119453441, 8.3270629546, 8.37177348121, 8.48627604933, 8.27471892346, 8.38704049029 ]\n",
    "err_200 = [8.16239735663, 8.11768683002, 8.20710788323, 8.17003086117, 8.15258285079, 8.22019389102, 8.0947863164, 8.17984536701, 8.1416778443, 8.11986783132 ]\n",
    "err_400 = [8.01081776644, 7.99991275995, 7.97919324762, 7.99555075735, 7.98137424892, 8.00209376125, 7.99009825411, 7.97810274697, 7.98464575086, 7.9519307314 ]\n",
    "err_800 = [7.81234664835, 7.83415666132, 7.81452764964, 7.86687168079, 7.82652315678, 7.82107065354, 7.79817013991, 7.81016564705, 7.82107065354, 7.82107065354 ]\n",
    "err_1600 = [7.68148657048, 7.69239157697, 7.70983958735, 7.69675357957, 7.68257707113, 7.68039606984, 7.68148657048, 7.68912007503, 7.69566307892, 7.70329658346 ]\n",
    "err_3200 = [7.72510659644, 7.73274010098, 7.72946859903, 7.72510659644, 7.73274010098, 7.72728759774, 7.72619709709, 7.74255460682, 7.72183509449, 7.73055909968 ]"
   ]
  },
  {
   "cell_type": "code",
   "execution_count": 21,
   "metadata": {},
   "outputs": [
    {
     "data": {
      "image/png": "[encoded data removed]",
      "text/plain": [
       "<matplotlib.figure.Figure at 0x7f84cf5395c0>"
      ]
     },
     "metadata": {},
     "output_type": "display_data"
    }
   ],
   "source": [
    "\n",
    "plt.plot((0, 9), (err_xg_boost, err_xg_boost))\n",
    "plt.plot((0, 9), (err_kernel, err_kernel))\n",
    "plt.legend(['XG boost','Kernel SVM'], loc=1)\n",
    "\n",
    "acc_data = [err_100, err_200, err_400, err_800, err_1600, err_3200]\n",
    "labels = ['100', '200)', '400', '800', '1600', '3200']\n",
    "\n",
    "fig = plt.figure(1, figsize=(9, 6))\n",
    "ax = fig.add_subplot(111)\n",
    "bp = ax.boxplot(acc_data, patch_artist=True)\n",
    "\n",
    "## change outline color, fill color and linewidth of the boxes\n",
    "for box in bp['boxes']:\n",
    "    # change outline color\n",
    "    box.set( color='#173d5b', linewidth=2)\n",
    "    # change fill color\n",
    "    box.set( facecolor = '#173d5b' )\n",
    "\n",
    "## change color and linewidth of the whiskers\n",
    "for whisker in bp['whiskers']:\n",
    "    whisker.set(color='#7570b3', linewidth=2)\n",
    "\n",
    "## change color and linewidth of the caps\n",
    "for cap in bp['caps']:\n",
    "    cap.set(color='#7570b3', linewidth=2)\n",
    "\n",
    "## change color and linewidth of the medians\n",
    "for median in bp['medians']:\n",
    "    median.set(color='#b2df8a', linewidth=2)\n",
    "\n",
    "## change the style of fliers and their fill\n",
    "for flier in bp['fliers']:\n",
    "    flier.set(marker='o', color='#e7298a', alpha=0.5)\n",
    "\n",
    "ax.set_xticklabels(labels)\n",
    "# fig.canvas.set_window_title('Comparing classifiers')\n",
    "# xtickNames = plt.setp(ax1, xticklabels=np.repeat(labels, 3))\n",
    "\n",
    "# bp = plt.boxplot(acc_data)\n",
    "# plt.setp(bp['boxes'], color='black')\n",
    "# plt.setp(bp['whiskers'], color='black')\n",
    "# plt.setp(bp['fliers'], color='red', marker='+')\n",
    "\n",
    "plt.ylabel('Test Error (percentage)')\n",
    "plt.xlabel('Number of landmark points')\n",
    "plt.title('Comparing LLSVM, XG Boost and Kernel SVM')\n",
    "plt.show()"
   ]
  },
  {
   "cell_type": "code",
   "execution_count": null,
   "metadata": {
    "collapsed": true
   },
   "outputs": [],
   "source": []
  }
 ],
 "metadata": {
  "kernelspec": {
   "display_name": "Python 3",
   "language": "python",
   "name": "python3"
  },
  "language_info": {
   "codemirror_mode": {
    "name": "ipython",
    "version": 3
   },
   "file_extension": ".py",
   "mimetype": "text/x-python",
   "name": "python",
   "nbconvert_exporter": "python",
   "pygments_lexer": "ipython3",
   "version": "3.5.2"
  }
 },
 "nbformat": 4,
 "nbformat_minor": 2
}
