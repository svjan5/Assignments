{
 "cells": [
  {
   "cell_type": "code",
   "execution_count": 1,
   "metadata": {
    "collapsed": true
   },
   "outputs": [],
   "source": [
    "import numpy as np\n",
    "import pandas as pd\n",
    "import matplotlib.pyplot as plt\n",
    "import xgboost\n",
    "plt.style.use('ggplot')\n",
    "from sklearn.metrics.pairwise import pairwise_kernels"
   ]
  },
  {
   "cell_type": "markdown",
   "metadata": {},
   "source": [
    "### Load All data"
   ]
  },
  {
   "cell_type": "code",
   "execution_count": 26,
   "metadata": {},
   "outputs": [
    {
     "name": "stdout",
     "output_type": "stream",
     "text": [
      "(581012, 54)\n"
     ]
    },
    {
     "data": {
      "text/plain": [
       "array([[  2.59600000e+03,   5.10000000e+01,   3.00000000e+00, ...,\n",
       "          0.00000000e+00,   0.00000000e+00,   0.00000000e+00],\n",
       "       [  2.59000000e+03,   5.60000000e+01,   2.00000000e+00, ...,\n",
       "          0.00000000e+00,   0.00000000e+00,   0.00000000e+00],\n",
       "       [  2.80400000e+03,   1.39000000e+02,   9.00000000e+00, ...,\n",
       "          0.00000000e+00,   0.00000000e+00,   0.00000000e+00],\n",
       "       ..., \n",
       "       [  2.38600000e+03,   1.59000000e+02,   1.70000000e+01, ...,\n",
       "          0.00000000e+00,   0.00000000e+00,   0.00000000e+00],\n",
       "       [  2.38400000e+03,   1.70000000e+02,   1.50000000e+01, ...,\n",
       "          0.00000000e+00,   0.00000000e+00,   0.00000000e+00],\n",
       "       [  2.38300000e+03,   1.65000000e+02,   1.30000000e+01, ...,\n",
       "          0.00000000e+00,   0.00000000e+00,   0.00000000e+00]], dtype=float32)"
      ]
     },
     "execution_count": 26,
     "metadata": {},
     "output_type": "execute_result"
    }
   ],
   "source": [
    "y_all = []\n",
    "all_ind_val = []\n",
    "max_key = -1\n",
    "\n",
    "with open('/home/shikhar/scikit_learn_data/covType/covtype.libsvm.binary', 'r') as f:\n",
    "    for line in f:\n",
    "        entry = line.split()\n",
    "        y_all.append(int(float(entry[0])))\n",
    "        ind_val = dict()\n",
    "        for i in range(1,len(entry)):\n",
    "            key_val = entry[i].split(':')\n",
    "            key = int(key_val[0])\n",
    "            val = float(key_val[1])\n",
    "            ind_val[key] = val\n",
    "            max_key = max(max_key, key)\n",
    "        all_ind_val.append(ind_val)\n",
    "\n",
    "N_TRAIN = len(all_ind_val)\n",
    "N_CATEGORY = max_key\n",
    "\n",
    "x_all = np.zeros((N_TRAIN, N_CATEGORY), np.float32)\n",
    "y_all = np.int8(y_all)\n",
    "y_all[y_all == 2] = -1\n",
    "\n",
    "for i in range(N_TRAIN):\n",
    "    ind_values = all_ind_val[i]\n",
    "    for (k,v) in ind_values.items():\n",
    "        x_all[i, k-1] = v\n",
    "\n",
    "print(x_all.shape)\n",
    "x_all"
   ]
  },
  {
   "cell_type": "markdown",
   "metadata": {},
   "source": [
    "### Make test and train data"
   ]
  },
  {
   "cell_type": "code",
   "execution_count": 29,
   "metadata": {},
   "outputs": [
    {
     "name": "stdout",
     "output_type": "stream",
     "text": [
      "581012 46480 11620\n",
      "(46480, 54) (11620, 54) (46480,) (11620,)\n"
     ]
    }
   ],
   "source": [
    "N_ALL = x_all.shape[0]\n",
    "N_TRAIN = int(0.08 * N_ALL)\n",
    "train_ind = np.random.choice(N_ALL, N_TRAIN, replace=False)\n",
    "N_TEST = int(0.02 * N_ALL)\n",
    "test_ind = np.random.choice(N_ALL, N_TEST, replace=False)\n",
    "\n",
    "print(N_ALL, N_TRAIN, N_TEST)\n",
    "\n",
    "x_train  = x_all[train_ind, :]\n",
    "y_train  = y_all[train_ind, ]\n",
    "x_test   = x_all[test_ind, :] \n",
    "y_test  = y_all[test_ind, ] \n",
    "\n",
    "print(x_train.shape, x_test.shape, y_train.shape, y_test.shape)"
   ]
  },
  {
   "cell_type": "markdown",
   "metadata": {},
   "source": [
    "### Set baseline - Training xgboost"
   ]
  },
  {
   "cell_type": "code",
   "execution_count": 37,
   "metadata": {},
   "outputs": [
    {
     "name": "stdout",
     "output_type": "stream",
     "text": [
      "Train Accuracy 21.3166953528\n",
      "Test Accuracy 21.6351118761\n"
     ]
    }
   ],
   "source": [
    "xgClass = xgboost.XGBClassifier()\n",
    "xgClass.fit(x_train, y_train)\n",
    "\n",
    "train_pred = xgClass.predict(x_train)\n",
    "xg_train_acc = (N_TRAIN - np.sum(train_pred == y_train)) / N_TRAIN * 100\n",
    "print ('Train Accuracy', xg_train_acc) \n",
    "\n",
    "test_pred = xgClass.predict(x_test)\n",
    "xg_test_acc = (N_TEST - np.sum(test_pred == y_test)) / N_TEST * 100\n",
    "\n",
    "print ('Test Accuracy', xg_test_acc) "
   ]
  },
  {
   "cell_type": "markdown",
   "metadata": {},
   "source": [
    "### Kernel SVM"
   ]
  },
  {
   "cell_type": "code",
   "execution_count": 9,
   "metadata": {},
   "outputs": [
    {
     "name": "stdout",
     "output_type": "stream",
     "text": [
      "Train Accuracy 100.0\n",
      "Test Accuracy 27.2719449225\n"
     ]
    }
   ],
   "source": [
    "from sklearn import svm\n",
    "svm_kernel = svm.SVC(kernel='rbf')\n",
    "\n",
    "svm_kernel.fit(x_train, y_train)\n",
    "\n",
    "train_pred = svm_kernel.predict(x_train)\n",
    "\n",
    "crct = 0\n",
    "for i in range(N_TRAIN):\n",
    "    if(train_pred[i] == y_train[i]):\n",
    "        crct += 1\n",
    "\n",
    "kernelSVM_train_acc = (crct)/N_TRAIN * 100;\n",
    "print ('Train Accuracy', kernelSVM_train_acc) \n",
    "\n",
    "y_pred = svm_kernel.predict(x_test)\n",
    "\n",
    "kernelSVM_test_acc = (N_TEST - np.sum(y_pred == y_test)) / N_TEST * 100\n",
    "print ('Test Accuracy', kernelSVM_test_acc) "
   ]
  },
  {
   "cell_type": "markdown",
   "metadata": {},
   "source": [
    "### Low-rank linearization SVM"
   ]
  },
  {
   "cell_type": "code",
   "execution_count": 38,
   "metadata": {},
   "outputs": [
    {
     "name": "stderr",
     "output_type": "stream",
     "text": [
      "/usr/local/lib/python3.5/dist-packages/ipykernel_launcher.py:34: RuntimeWarning: divide by zero encountered in double_scalars\n"
     ]
    },
    {
     "name": "stdout",
     "output_type": "stream",
     "text": [
      "Test Accuracy 49.7246127367\n",
      "Test Accuracy 49.8881239243\n",
      "Test Accuracy 49.9655765921\n",
      "Test Accuracy 50.395869191\n",
      "Test Accuracy 49.7504302926\n",
      "Test Accuracy 49.8537005164\n",
      "Test Accuracy 50.0430292599\n",
      "Test Accuracy 50.6282271945\n",
      "Test Accuracy 49.7590361446\n",
      "Test Accuracy 49.8106712565\n",
      "Test Accuracy 50.0602409639\n",
      "Test Accuracy 50.5163511188\n",
      "Test Accuracy 49.7418244406\n",
      "Test Accuracy 49.9397590361\n",
      "Test Accuracy 50.0774526678\n",
      "Test Accuracy 50.413080895\n",
      "Test Accuracy 49.6471600688\n",
      "Test Accuracy 49.8278829604\n",
      "Test Accuracy 50.1807228916\n",
      "Test Accuracy 50.3012048193\n",
      "Test Accuracy 49.7246127367\n",
      "Test Accuracy 49.8106712565\n",
      "Test Accuracy 50.1807228916\n",
      "Test Accuracy 50.413080895\n",
      "Test Accuracy 49.7504302926\n",
      "Test Accuracy 49.8967297762\n",
      "Test Accuracy 50.1204819277\n",
      "Test Accuracy 50.5593803787\n",
      "Test Accuracy 49.8106712565\n",
      "Test Accuracy 49.7676419966\n",
      "Test Accuracy 50.0\n",
      "Test Accuracy 50.4388984509\n",
      "Test Accuracy 49.7246127367\n",
      "Test Accuracy 49.8278829604\n",
      "Test Accuracy 50.0688468158\n",
      "Test Accuracy 50.4905335628\n",
      "Test Accuracy 49.7332185886\n",
      "Test Accuracy 49.8537005164\n",
      "Test Accuracy 49.982788296\n",
      "Test Accuracy 50.4647160069\n"
     ]
    }
   ],
   "source": [
    "svm_score = dict()\n",
    "xg_score = dict()\n",
    "z_sizes = [100,200,400,800]\n",
    "\n",
    "for z_num in z_sizes:\n",
    "    svm_score[z_num] = []\n",
    "    xg_score[z_num] = []\n",
    "    \n",
    "\n",
    "for k in range(10):\n",
    "    for z_num in z_sizes:\n",
    "\n",
    "        z_ind = np.random.choice(N_TRAIN, z_num, replace=False)\n",
    "        z_data = x_train[z_ind, :]\n",
    "\n",
    "        Kzz = pairwise_kernels(z_data, metric='rbf')\n",
    "        Uz, Sz, Vz = np.linalg.svd(Kzz, full_matrices=True)\n",
    "        M = Uz * np.power(Sz, -0.5)\n",
    "\n",
    "        Krz = pairwise_kernels(x_train, z_data, metric='rbf')\n",
    "        Fr = Krz @ M\n",
    "\n",
    "        # Initially assuming that all alphas are zero\n",
    "        alpha = np.zeros((N_TRAIN,), np.float32)\n",
    "\n",
    "\n",
    "        w = Fr.T @ (y_train * alpha)\n",
    "        tol = 1e-3\n",
    "        C = 1.0\n",
    "        maxIter = 100 + int(0.1 * z_num)\n",
    "\n",
    "        for iter in range(maxIter):\n",
    "            for i in range(N_TRAIN):\n",
    "                res = (1 - y_train[i] * (w.T @ Fr[i,:])) / (Fr[i,:].T @ Fr[i,:])\n",
    "                delta_alpha = min(max(res, -alpha[i]), C - alpha[i])\n",
    "                w = w + delta_alpha * y_train[i] * Fr[i,:]\n",
    "                alpha[i] += delta_alpha\n",
    "\n",
    "        Kez = pairwise_kernels(x_test, z_data, metric='rbf')\n",
    "        y_pred = (Kez @ M) @ w\n",
    "        y_pred[y_pred > 0] = 1\n",
    "        y_pred[y_pred <= 0] = -1\n",
    "\n",
    "        SVM_test_acc = (np.sum(y_pred == y_test)) / N_TEST * 100\n",
    "        \n",
    "        svm_score[z_num].append(SVM_test_acc)\n",
    "        \n",
    "#         xgClass = xgboost.XGBClassifier()\n",
    "#         xgClass.fit(Fr, y_train)\n",
    "#         test_pred = xgClass.predict(x_test)\n",
    "#         xg_test_err = (N_TEST - np.sum(test_pred == y_test)) / N_TEST * 100         \n",
    "#         xg_score[z_num].append(xg_test_err)\n",
    "\n",
    "        print ('Test Accuracy', SVM_test_acc)"
   ]
  },
  {
   "cell_type": "code",
   "execution_count": 47,
   "metadata": {
    "collapsed": true
   },
   "outputs": [],
   "source": [
    "err_xg_boost = 100 - 21.6351118761\n",
    "err_kernel = 100 - 27.2719449225\n",
    "err_100 = [49.7246127367,49.7332185886, 49.7504302926, 49.7590361446, 49.7418244406, 49.6471600688, 49.7246127367, 49.7504302926, 49.8106712565, 49.7246127367]\n",
    "err_200 = [49.8537005164, 49.8881239243, 49.8537005164, 49.8106712565, 49.9397590361, 49.8278829604, 49.8106712565, 49.8967297762, 49.7676419966, 49.8278829604] \n",
    "err_400 = [49.982788296, 49.9655765921, 50.0430292599, 50.0602409639, 50.0774526678, 50.1807228916, 50.1807228916, 50.1204819277, 50.0, 50.0688468158]\n",
    "err_800 = [50.4647160069, 50.395869191, 50.6282271945, 50.5163511188, 50.413080895, 50.3012048193, 50.413080895, 50.5593803787, 50.4388984509, 50.4905335628]\n",
    "err_1600= [49.6299483649, 49.595524957, 49.6987951807, 49.7504302926, 49.569707401, 49.7246127367, 49.8192771084, 49.578313253, 49.595524957, 49.586919105]\n",
    "err_3200= [51.3166953528, 51.4113597246, 51.1703958692, 51.0671256454, 50.8605851979, 51.239242685, 51.3080895009, 51.1962134251, 51.239242685, 51.0929432014] \n",
    "\n",
    "for i in range(len(err_100)):\n",
    "    err_100[i] = 100 - err_100[i]\n",
    "    \n",
    "for i in range(len(err_200)):\n",
    "    err_200[i] = 100 - err_200[i]\n",
    "    \n",
    "for i in range(len(err_400)):\n",
    "    err_400[i] = 100 - err_400[i]\n",
    "    \n",
    "for i in range(len(err_800)):\n",
    "    err_800[i] = 100 - err_800[i]\n",
    "\n",
    "for i in range(len(err_1600)):\n",
    "    err_1600[i] = 100 - err_1600[i]\n",
    "\n",
    "for i in range(len(err_3200)):\n",
    "    err_3200[i] = 100 - err_3200[i]\n"
   ]
  },
  {
   "cell_type": "code",
   "execution_count": 48,
   "metadata": {},
   "outputs": [
    {
     "data": {
      "image/png": "[encoded data removed]",
      "text/plain": [
       "<matplotlib.figure.Figure at 0x7f78ad4c8048>"
      ]
     },
     "metadata": {},
     "output_type": "display_data"
    }
   ],
   "source": [
    "\n",
    "# plt.plot((0, 9), (err_xg_boost, err_xg_boost))\n",
    "# plt.plot((0, 9), (err_kernel, err_kernel))\n",
    "plt.legend(['XG boost','Kernel SVM'], loc=1)\n",
    "\n",
    "acc_data = [err_100, err_200, err_400, err_800]\n",
    "labels = ['100', '200)', '400', '800', '1600', '3200']\n",
    "\n",
    "fig = plt.figure(1, figsize=(9, 6))\n",
    "ax = fig.add_subplot(111)\n",
    "bp = ax.boxplot(acc_data, patch_artist=True)\n",
    "\n",
    "## change outline color, fill color and linewidth of the boxes\n",
    "for box in bp['boxes']:\n",
    "    # change outline color\n",
    "    box.set( color='#173d5b', linewidth=2)\n",
    "    # change fill color\n",
    "    box.set( facecolor = '#173d5b' )\n",
    "\n",
    "## change color and linewidth of the whiskers\n",
    "for whisker in bp['whiskers']:\n",
    "    whisker.set(color='#7570b3', linewidth=2)\n",
    "\n",
    "## change color and linewidth of the caps\n",
    "for cap in bp['caps']:\n",
    "    cap.set(color='#7570b3', linewidth=2)\n",
    "\n",
    "## change color and linewidth of the medians\n",
    "for median in bp['medians']:\n",
    "    median.set(color='#b2df8a', linewidth=2)\n",
    "\n",
    "## change the style of fliers and their fill\n",
    "for flier in bp['fliers']:\n",
    "    flier.set(marker='o', color='#e7298a', alpha=0.5)\n",
    "\n",
    "ax.set_xticklabels(labels)\n",
    "# fig.canvas.set_window_title('Comparing classifiers')\n",
    "# xtickNames = plt.setp(ax1, xticklabels=np.repeat(labels, 3))\n",
    "\n",
    "# bp = plt.boxplot(acc_data)\n",
    "# plt.setp(bp['boxes'], color='black')\n",
    "# plt.setp(bp['whiskers'], color='black')\n",
    "# plt.setp(bp['fliers'], color='red', marker='+')\n",
    "\n",
    "plt.ylabel('Test Error (percentage)')\n",
    "plt.xlabel('Number of landmark points')\n",
    "plt.title('Comparing LLSVM, XG Boost and Kernel SVM')\n",
    "plt.show()"
   ]
  },
  {
   "cell_type": "code",
   "execution_count": 10,
   "metadata": {},
   "outputs": [
    {
     "data": {
      "text/plain": [
       "256"
      ]
     },
     "execution_count": 10,
     "metadata": {},
     "output_type": "execute_result"
    }
   ],
   "source": [
    "import os\n",
    "os.system('say done')"
   ]
  }
 ],
 "metadata": {
  "kernelspec": {
   "display_name": "Python 3",
   "language": "python",
   "name": "python3"
  },
  "language_info": {
   "codemirror_mode": {
    "name": "ipython",
    "version": 3
   },
   "file_extension": ".py",
   "mimetype": "text/x-python",
   "name": "python",
   "nbconvert_exporter": "python",
   "pygments_lexer": "ipython3",
   "version": "3.5.2"
  }
 },
 "nbformat": 4,
 "nbformat_minor": 2
}
