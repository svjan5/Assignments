{
 "cells": [
  {
   "cell_type": "code",
   "execution_count": 39,
   "metadata": {},
   "outputs": [],
   "source": [
    "import numpy as np\n",
    "\n",
    "d,m = 10,20\n",
    "\n",
    "x = (np.random.rand(d,1) > 0.5)\n",
    "h = (np.random.rand(m,1) > 0.5)\n",
    "W = np.random.rand(d,m) - 0.5\n",
    "\n",
    "max_iter = 10000\n",
    "for i in range(max_iter):\n",
    "    ph = 1 / (1 + np.exp(-(W.T @ x)))\n",
    "    h = ph > 0.5\n",
    "    px = 1 / (1 + np.exp(-(W @ h)))\n",
    "    x = px > 0.5"
   ]
  }
 ],
 "metadata": {
  "kernelspec": {
   "display_name": "Python 3",
   "language": "python",
   "name": "python3"
  },
  "language_info": {
   "codemirror_mode": {
    "name": "ipython",
    "version": 3
   },
   "file_extension": ".py",
   "mimetype": "text/x-python",
   "name": "python",
   "nbconvert_exporter": "python",
   "pygments_lexer": "ipython3",
   "version": "3.5.2"
  }
 },
 "nbformat": 4,
 "nbformat_minor": 2
}
